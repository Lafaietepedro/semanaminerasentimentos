{
  "nbformat": 4,
  "nbformat_minor": 0,
  "metadata": {
    "colab": {
      "provenance": []
    },
    "kernelspec": {
      "name": "python3",
      "display_name": "Python 3"
    },
    "language_info": {
      "name": "python"
    }
  },
  "cells": [
    {
      "cell_type": "markdown",
      "source": [
        "\n",
        "# **NLTK Downloads**\n",
        "\n",
        "- ## nltk.download(\"average_perceptron_tagger\")\n",
        "- ## nltk.download(\"brown\")"
      ],
      "metadata": {
        "id": "vEx2JGQ6bHAH"
      }
    },
    {
      "cell_type": "markdown",
      "source": [
        "## **O que é a NLTK?**\n",
        "\n",
        "### A NLTK (Natural Language Toolkit) é uma biblioteca em Python muito utilizada para Processamento de Linguagem Natural (PLN). Ela oferece várias ferramentas para manipular e analisar textos, desde segmentação de sentenças e palavras até mais avançados, como etiquetagem gramatical e análise sintática.\n",
        "\n",
        "### Ela é amplamente usada em projetos acadêmicos e comerciais para tarefas como:\n",
        "\n",
        "- ### Análise de sentimentos\n",
        "- ### Extração de informações\n",
        "- ### Tradução automática\n",
        "- ### Resumo automático de textos\n"
      ],
      "metadata": {
        "id": "RLUk9bRodLs7"
      }
    },
    {
      "cell_type": "markdown",
      "source": [
        "# 1. **nltk.download(\"average_perceptron_tagger\")**\n",
        "\n",
        "## Divindo em partes para melhor entendimento:\n",
        "\n",
        "## **O que é e como funciona o Perceptron:**\n",
        "\n",
        "- ### O Perceptron é um algoritmo de classificação supervisionada, o que significa que ele é treinado com um conjunto de dados previamente etiquetado, e depois usa esse conhecimento para classificar novos dados. Ele ajusta seus parâmetros com base nos erros que comete ao longo do processo de treinamento, buscando minimizar esses erros com o tempo.\n",
        "\n",
        "## **O que é \"Tagging\"?:**\n",
        "\n",
        "- ### \"Tagging\" é um processo no qual cada palavra de uma frase recebe uma etiqueta (tag) que identifica sua classe gramatical ou parte do discurso (\"part-of-speech\" - POS), como substantivo, verbo, adjetivo, etc. Isso é importante porque saber a função gramatical de cada palavra ajuda na compreensão do significado geral da frase. Por exemplo:\n",
        "\n",
        "  - ### **Exemplo**: \"O gato correu.\"\n",
        "  - ### \"O\" → Artigo definido\n",
        "  - ### \"gato\" → Substantivo\n",
        "  - ### \"correu\" → Verbo\n",
        "\n",
        "## **O que é o Perceptron Tagger?**\n",
        "\n",
        "- ### O **\"average_perceptron_tagger\"** é uma técnica de etiquetagem que utiliza o algoritmo do Perceptron, que pertence ao campo de aprendizado de máquina. Esse algoritmo é capaz de \"aprender\" com exemplos anteriores e, a partir disso, rotular palavras novas de forma precisa.\n",
        "\n",
        "## **Aplicação prática:**\n",
        "\n",
        "- ### Quando você executa **nltk.download(\"average_perceptron_tagger\")**, você está baixando um modelo pré-treinado que permite rotular palavras de uma frase com suas classes gramaticais.\n",
        "- ### Esse modelo é eficaz porque já foi treinado com uma grande quantidade de dados em inglês, o que significa que ele consegue rotular palavras de forma precisa na maioria dos casos.\n",
        "\n",
        "## **Por que isso é útil?**\n",
        "\n",
        "### Entender a função gramatical das palavras ajuda em tarefas como análise semântica, onde queremos saber o que as palavras significam e como elas interagem entre si na frase. O etiquetador pode ser usado em várias tarefas de PLN, como análise de sentimentos ou reconhecimento de entidades nomeadas (identificação de nomes de pessoas, lugares, etc.).\n",
        "\n"
      ],
      "metadata": {
        "id": "etCzKwpAeEb5"
      }
    },
    {
      "cell_type": "markdown",
      "source": [
        "# 2. **nltk.download(\"brown\")**\n",
        "\n",
        "## **O que é um Corpus?**\n",
        "### Um Corpus (plural: Corpora) é uma coleção estruturada de textos. Esses textos são geralmente organizados para servir de base para pesquisa e análise linguística. Um corpus pode ser composto de textos escritos ou transcrições de fala, e pode incluir anotações linguísticas, como etiquetas de parte do discurso (POS tags).\n",
        "\n",
        "## **O que é o \"Brown Corpus\"?**\n",
        "### O Brown Corpus é um dos primeiros e mais importantes conjuntos de dados linguísticos usados em PLN. Foi criado na década de 1960 e contém cerca de 1 milhão de palavras organizadas em diferentes gêneros de textos, como:\n",
        "\n",
        "- ### Ficção\n",
        "- ### Jornalismo\n",
        "- ### Religião\n",
        "- ### Literatura científica\n",
        "\n",
        "## **Para que serve o Brown Corpus?**\n",
        "### O Brown Corpus é usado para treinar e avaliar modelos de processamento de linguagem. Ele é importante porque contém uma diversidade de gêneros textuais, o que ajuda a garantir que os modelos de PLN sejam versáteis e consigam funcionar bem em diferentes contextos.\n",
        "\n",
        "### Por exemplo, um modelo que foi treinado apenas com notícias pode não se sair bem em textos de ficção. O Brown Corpus garante que os algoritmos possam lidar com diversos estilos e formas de escrita.\n",
        "\n",
        "## **Exemplo de uso:**\n",
        "- ### **Treinamento de modelos:** O Brown Corpus é utilizado para treinar modelos como o tagger de perceptron que mencionamos antes. O corpus já tem suas palavras etiquetadas, então o modelo pode aprender a partir dessas etiquetas.\n",
        "- ### **Teste de modelos:** Depois que um modelo foi treinado, o corpus pode ser usado para testar o desempenho do modelo. Isso é feito comparando as etiquetas previstas pelo modelo com as etiquetas reais no Brown Corpus."
      ],
      "metadata": {
        "id": "O-ri5vN2hACb"
      }
    },
    {
      "cell_type": "markdown",
      "source": [
        "# **Como esses dois elementos se conectam?**\n",
        "\n",
        "## Esses dois downloads são usados juntos para realizar tarefas de etiquetagem gramatical. O **\"average_perceptron_tagger\"** precisa de exemplos para aprender, e o **Brown Corpus** é uma fonte rica desses exemplos. No treinamento, o Perceptron aprende a etiquetar as palavras corretamente com base nos textos já etiquetados do Brown Corpus."
      ],
      "metadata": {
        "id": "eQSdSw_oirBI"
      }
    },
    {
      "cell_type": "markdown",
      "source": [
        "# **Exemplo:**"
      ],
      "metadata": {
        "id": "COSL2G5TtQ7x"
      }
    },
    {
      "cell_type": "code",
      "source": [
        "# Importar a biblioteca NLTK\n",
        "import nltk\n",
        "\n",
        "# Carregar o Brown Corpus\n",
        "from nltk.corpus import brown"
      ],
      "metadata": {
        "id": "AzwSC23zvlLR"
      },
      "execution_count": null,
      "outputs": []
    },
    {
      "cell_type": "code",
      "source": [
        "# Baixar os recursos necessários\n",
        "nltk.download('brown')  # Baixa o corpus Brown\n",
        "nltk.download('punkt')  # Necessário para tokenização\n",
        "nltk.download('averaged_perceptron_tagger')  # Baixa o etiquetador perceptron"
      ],
      "metadata": {
        "colab": {
          "base_uri": "https://localhost:8080/"
        },
        "id": "JRBbl3YQvoLd",
        "outputId": "2ae5579e-6b30-41bf-e9c6-3f52ebb4279e"
      },
      "execution_count": null,
      "outputs": [
        {
          "output_type": "stream",
          "name": "stderr",
          "text": [
            "[nltk_data] Downloading package brown to /root/nltk_data...\n",
            "[nltk_data]   Package brown is already up-to-date!\n",
            "[nltk_data] Downloading package punkt to /root/nltk_data...\n",
            "[nltk_data]   Package punkt is already up-to-date!\n",
            "[nltk_data] Downloading package averaged_perceptron_tagger to\n",
            "[nltk_data]     /root/nltk_data...\n",
            "[nltk_data]   Package averaged_perceptron_tagger is already up-to-\n",
            "[nltk_data]       date!\n"
          ]
        },
        {
          "output_type": "execute_result",
          "data": {
            "text/plain": [
              "True"
            ]
          },
          "metadata": {},
          "execution_count": 13
        }
      ]
    },
    {
      "cell_type": "code",
      "source": [
        "# Obter algumas frases do Brown Corpus (usando as primeiras 2 frases)\n",
        "frases = brown.sents(categories='news')[:1]\n",
        "\n",
        "for frase in frases:\n",
        "    print(frase)\n",
        "\n",
        "print()\n",
        "\n",
        "# # # Etiquetar as palavras das frases\n",
        "for i, frase in enumerate(frases):\n",
        "    # Etiquetar cada frase\n",
        "    tags = nltk.pos_tag(frase)\n",
        "    #print(tags)\n",
        "    # print(f\"\\nFrase {i+1} com etiquetas gramaticais (POS tags):\")\n",
        "    # for palavra, tag in tags:\n",
        "    #     print(f\"{palavra}: {tag}\")\n"
      ],
      "metadata": {
        "colab": {
          "base_uri": "https://localhost:8080/"
        },
        "id": "lkXy_1_avFzu",
        "outputId": "34b41523-9454-4c3a-f806-3548cc2d6879"
      },
      "execution_count": null,
      "outputs": [
        {
          "output_type": "stream",
          "name": "stdout",
          "text": [
            "['The', 'Fulton', 'County', 'Grand', 'Jury', 'said', 'Friday', 'an', 'investigation', 'of', \"Atlanta's\", 'recent', 'primary', 'election', 'produced', '``', 'no', 'evidence', \"''\", 'that', 'any', 'irregularities', 'took', 'place', '.']\n",
            "\n"
          ]
        }
      ]
    },
    {
      "cell_type": "markdown",
      "source": [
        "# **Explicação das principais etiquetas:**\n",
        "- ## **DT (Determinante)**: Exemplo — The, an, no são determinantes que precedem um substantivo.\n",
        "- ## **NNP (Substantivo próprio singular)**: Exemplo — Fulton, County, Friday, Atlanta's são substantivos próprios, nomes de lugares ou entidades.\n",
        "- ## **NN (Substantivo singular)**: Exemplo — Jury, investigation, election, evidence, place são substantivos comuns.\n",
        "- ## **JJ (Adjetivo)**: Exemplo — Grand, recent, primary são adjetivos que descrevem os substantivos.\n",
        "- ## **VBD (Verbo no passado)**: Exemplo — said, produced, took são verbos conjugados no passado.\n",
        "- ## **IN (Preposição/Conjunção subordinativa)**: Exemplo — of, that são preposições ou conjunções subordinativas.\n",
        "- ## **NNS (Substantivo plural)**: Exemplo — irregularities é um substantivo no plural."
      ],
      "metadata": {
        "id": "pJNghmLhxee4"
      }
    }
  ]
}